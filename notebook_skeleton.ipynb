{
 "cells": [
  {
   "cell_type": "code",
   "execution_count": null,
   "id": "2add6b29-565a-43a3-8158-67dfec7acc4b",
   "metadata": {},
   "outputs": [],
   "source": []
  },
  {
   "attachments": {},
   "cell_type": "markdown",
   "id": "82917838-5d29-43a3-9ab4-68e538973f7d",
   "metadata": {},
   "source": [
    "# Machine Learning(Vertex AI) <> Google Sheets\n",
    "\n",
    "#############################################################################3"
   ]
  },
  {
   "cell_type": "code",
   "execution_count": 1,
   "id": "f8eeb148-a021-43eb-9607-602cbf58e0ec",
   "metadata": {},
   "outputs": [],
   "source": [
    "#############################################################################3'\n",
    "# G Sheets Connection\n",
    "import gspread\n",
    "from oauth2client.service_account import ServiceAccountCredentials\n",
    "from df2gspread import df2gspread as d2g"
   ]
  },
  {
   "cell_type": "code",
   "execution_count": 2,
   "id": "5168709b-631c-40b1-b4af-d4e915056f5b",
   "metadata": {},
   "outputs": [],
   "source": [
    "#############################################################################3\n",
    "# DATA MANIPYULATION\n",
    "import pandas as pd\n",
    "import numpy as np\n"
   ]
  },
  {
   "cell_type": "code",
   "execution_count": 6,
   "id": "9e33f4c4-4c50-4507-9222-b059b12768d8",
   "metadata": {},
   "outputs": [],
   "source": [
    "#############################################################################3\n",
    "# Service Account Setup\n",
    "\n",
    "# scopes\n",
    "scope = ['https://www.googleapis.com/auth/spreadsheets','https://www.googleapis.com/auth/drive']\n",
    "\n",
    "#authorize sa\n",
    "credentials = ServiceAccountCredentials.from_json_keyfile_name('credentials.json', scope)\n",
    "client = gspread.authorize(credentials)\n",
    "spreadsheet_key = '1WZW5y6NO8z2rFVNCLFvUnsrE6HYT4c5Lae9VIBmsA1Y'\n",
    "sh = client.open_by_key(spreadsheet_key)"
   ]
  },
  {
   "cell_type": "markdown",
   "id": "5c8c3351-9792-4cf2-99be-dafd3e2f4e8e",
   "metadata": {},
   "source": [
    "### Share G Sheetr w/ SA\n"
   ]
  },
  {
   "cell_type": "code",
   "execution_count": 11,
   "id": "0f95eecc-525b-41fa-8b41-dbf6f9849b08",
   "metadata": {},
   "outputs": [
    {
     "name": "stdout",
     "output_type": "stream",
     "text": [
      "sad-vertex-ai\n",
      "me-west1\n",
      "gs://trauco-sad-vertex-ai-unique/\n"
     ]
    }
   ],
   "source": [
    "##################################################################\n",
    "# Master G Sheets Workbook Variable Index Mapping\n",
    "PROJECT_ID = sh.worksheet('Variables').acell('B1').value\n",
    "REGION = sh.worksheet('Variables').acell('B2').value\n",
    "BUCKET_URI = sh.worksheet('Variables').acell('B4').value\n",
    "IMPORT_FILE = sh.worksheet('Variables').acell('B').value\n",
    "\n",
    "\n",
    "\n",
    "\n",
    "\n",
    "\n",
    "\n",
    "\n",
    "\n",
    "\n",
    "\n",
    "\n",
    "\n",
    "\n",
    "print(PROJECT_ID)\n",
    "print(REGION)\n",
    "print(BUCKET_URI)"
   ]
  },
  {
   "cell_type": "code",
   "execution_count": 13,
   "id": "dc95a217-949b-4f18-9d41-704cf1f144ee",
   "metadata": {},
   "outputs": [],
   "source": [
    "from google.cloud import aiplatform\n"
   ]
  },
  {
   "cell_type": "code",
   "execution_count": 14,
   "id": "398255e1-c0f5-408b-af2b-c5a8e28e180c",
   "metadata": {},
   "outputs": [],
   "source": [
    "aiplatform.init(project=PROJECT_ID, location=REGION, staging_bucket=BUCKET_URI)"
   ]
  },
  {
   "cell_type": "code",
   "execution_count": null,
   "id": "04907192-2f90-4758-9e27-18ae001fb589",
   "metadata": {},
   "outputs": [],
   "source": []
  }
 ],
 "metadata": {
  "kernelspec": {
   "display_name": "Python 3 (ipykernel)",
   "language": "python",
   "name": "python3"
  },
  "language_info": {
   "codemirror_mode": {
    "name": "ipython",
    "version": 3
   },
   "file_extension": ".py",
   "mimetype": "text/x-python",
   "name": "python",
   "nbconvert_exporter": "python",
   "pygments_lexer": "ipython3",
   "version": "3.10.12"
  }
 },
 "nbformat": 4,
 "nbformat_minor": 5
}
