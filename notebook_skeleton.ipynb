{
 "cells": [
  {
   "cell_type": "code",
   "execution_count": null,
   "id": "2add6b29-565a-43a3-8158-67dfec7acc4b",
   "metadata": {},
   "outputs": [],
   "source": []
  },
  {
   "attachments": {},
   "cell_type": "markdown",
   "id": "82917838-5d29-43a3-9ab4-68e538973f7d",
   "metadata": {},
   "source": [
    "# Machine Learning(Vertex AI) <> Google Sheets\n",
    "\n",
    "#############################################################################3"
   ]
  },
  {
   "cell_type": "code",
   "execution_count": 6,
   "id": "f8eeb148-a021-43eb-9607-602cbf58e0ec",
   "metadata": {},
   "outputs": [],
   "source": [
    "#############################################################################3'\n",
    "# G Sheets Connection\n",
    "import gspread\n",
    "from oauth2client.service_account import ServiceAccountCredentials\n",
    "from df2gspread import df2gspread as d2g"
   ]
  },
  {
   "cell_type": "code",
   "execution_count": 7,
   "id": "5168709b-631c-40b1-b4af-d4e915056f5b",
   "metadata": {},
   "outputs": [],
   "source": [
    "#############################################################################3\n",
    "# DATA MANIPYULATION\n",
    "import pandas as pd\n",
    "import numpy as np\n"
   ]
  },
  {
   "cell_type": "code",
   "execution_count": 8,
   "id": "156f8d7f-54ea-4d2f-82c9-fa34a44bf7c2",
   "metadata": {},
   "outputs": [],
   "source": [
    "# #############################################################################3'\n",
    "# # ENV SETUP \n",
    "\n",
    "# import os\n",
    "# os.environ[\"GOOGLE_APPLICATION_CREDENTIALS\"]"
   ]
  },
  {
   "cell_type": "code",
   "execution_count": 12,
   "id": "9e33f4c4-4c50-4507-9222-b059b12768d8",
   "metadata": {},
   "outputs": [],
   "source": [
    "#############################################################################3\n",
    "# Service Account Setup\n",
    "# creds_path = os.environ[\"GOOGLE_APPLICATION_CREDENTIALS\"]\n",
    "# scopes\n",
    "scope = ['https://www.googleapis.com/auth/spreadsheets','https://www.googleapis.com/auth/drive']\n",
    "\n",
    "#authorize sa\n",
    "credentials = ServiceAccountCredentials.from_json_keyfile_name('credentials.json', scope)\n",
    "client = gspread.authorize(credentials)\n",
    "spreadsheet_key = '1WZW5y6NO8z2rFVNCLFvUnsrE6HYT4c5Lae9VIBmsA1Y'\n",
    "sh = client.open_by_key(spreadsheet_key)"
   ]
  },
  {
   "cell_type": "markdown",
   "id": "5c8c3351-9792-4cf2-99be-dafd3e2f4e8e",
   "metadata": {},
   "source": [
    "### Share G Sheetr w/ SA\n"
   ]
  },
  {
   "cell_type": "code",
   "execution_count": 15,
   "id": "0f95eecc-525b-41fa-8b41-dbf6f9849b08",
   "metadata": {},
   "outputs": [],
   "source": [
    "%%capture cap\n",
    "##################################################################\n",
    "# Master G Sheets Workbook Variable Index Mapping\n",
    "PROJECT_ID = sh.worksheet('Variables').acell('B1').value\n",
    "REGION = sh.worksheet('Variables').acell('B2').value\n",
    "SA = sh.worksheet('Variables').acell('B3').value\n",
    "BUCKET_NAME =  sh.worksheet('Variables').acell('B4').value\n",
    "BUCKET_URI = sh.worksheet('Variables').acell('B5').value\n",
    "IMPORT_FILE = sh.worksheet('Variables').acell('B6').value\n",
    "\n",
    "\n",
    "\n",
    "\n",
    "\n",
    "\n",
    "\n",
    "\n",
    "\n",
    "print(PROJECT_ID)\n",
    "print(REGION)\n",
    "print(BUCKET_URI)\n",
    "\n",
    "# del cap # delete previously existing cap variable\n",
    "\n",
    "\n",
    "print(PROJECT_ID)\n",
    "print(REGION)\n",
    "print(BUCKET_URI)\n",
    "print(\"capture me if you can!\")\n",
    "with open('output.txt', 'w') as f:\n",
    "    f.write(cap.stdout)\n",
    "cap()"
   ]
  },
  {
   "cell_type": "code",
   "execution_count": 23,
   "id": "dc95a217-949b-4f18-9d41-704cf1f144ee",
   "metadata": {},
   "outputs": [],
   "source": [
    "from google.cloud import aiplatform\n"
   ]
  },
  {
   "cell_type": "code",
   "execution_count": 24,
   "id": "398255e1-c0f5-408b-af2b-c5a8e28e180c",
   "metadata": {},
   "outputs": [],
   "source": [
    "aiplatform.init(project=PROJECT_ID, location=REGION, staging_bucket=BUCKET_URI)"
   ]
  },
  {
   "cell_type": "code",
   "execution_count": 25,
   "id": "04907192-2f90-4758-9e27-18ae001fb589",
   "metadata": {},
   "outputs": [],
   "source": [
    "\n",
    "import jsonlines\n",
    "from google.cloud import aiplatform, storage\n",
    "from google.cloud.aiplatform import jobs"
   ]
  },
  {
   "cell_type": "code",
   "execution_count": 26,
   "id": "b3f5a0e9-7641-4d77-9acc-d74e5b64fcab",
   "metadata": {},
   "outputs": [],
   "source": [
    "aiplatform.init(project=PROJECT_ID, location=REGION)\n"
   ]
  },
  {
   "cell_type": "markdown",
   "id": "639e97f9-e92c-4353-83e2-ca8e8d3f8a82",
   "metadata": {},
   "source": [
    "# create and import data"
   ]
  },
  {
   "cell_type": "code",
   "execution_count": 27,
   "id": "6fa487b3-091b-46a1-b423-48624c7f6eab",
   "metadata": {
    "scrolled": true
   },
   "outputs": [
    {
     "name": "stdout",
     "output_type": "stream",
     "text": [
      "Creating TextDataset\n",
      "Create TextDataset backing LRO: projects/854460851669/locations/us-central1/datasets/7637714641392500736/operations/5855679006011031552\n",
      "TextDataset created. Resource name: projects/854460851669/locations/us-central1/datasets/7637714641392500736\n",
      "To use this TextDataset in another session:\n",
      "ds = aiplatform.TextDataset('projects/854460851669/locations/us-central1/datasets/7637714641392500736')\n",
      "Importing TextDataset data: projects/854460851669/locations/us-central1/datasets/7637714641392500736\n",
      "Import TextDataset data backing LRO: projects/854460851669/locations/us-central1/datasets/7637714641392500736/operations/8391768546174042112\n",
      "TextDataset data imported. Resource name: projects/854460851669/locations/us-central1/datasets/7637714641392500736\n"
     ]
    }
   ],
   "source": [
    "\n",
    "src_uris = \"gs://cloud-ml-data/NL-classification/happiness.csv\"\n",
    "display_name = \"e2e-text-dataset-unique\"\n",
    "\n",
    "text_dataset = aiplatform.TextDataset.create(\n",
    "    display_name=display_name,\n",
    "    gcs_source=src_uris,\n",
    "    import_schema_uri=aiplatform.schema.dataset.ioformat.text.single_label_classification,\n",
    "    sync=True,\n",
    ")\n",
    "     \n"
   ]
  },
  {
   "cell_type": "code",
   "execution_count": 49,
   "id": "1bb02515-12da-4488-80b4-150f88feeefe",
   "metadata": {},
   "outputs": [
    {
     "name": "stdout",
     "output_type": "stream",
     "text": [
      "Creating TextDataset\n",
      "Create TextDataset backing LRO: projects/854460851669/locations/us-central1/datasets/2197366291528941568/operations/2266310102996746240\n",
      "TextDataset created. Resource name: projects/854460851669/locations/us-central1/datasets/2197366291528941568\n",
      "To use this TextDataset in another session:\n",
      "ds = aiplatform.TextDataset('projects/854460851669/locations/us-central1/datasets/2197366291528941568')\n",
      "Importing TextDataset data: projects/854460851669/locations/us-central1/datasets/2197366291528941568\n",
      "Import TextDataset data backing LRO: projects/854460851669/locations/us-central1/datasets/2197366291528941568/operations/1644813354419617792\n",
      "TextDataset data imported. Resource name: projects/854460851669/locations/us-central1/datasets/2197366291528941568\n"
     ]
    }
   ],
   "source": [
    "%%capture cap\n",
    "\n",
    "src_uris = \"gs://cloud-ml-data/NL-classification/happiness.csv\"\n",
    "display_name = \"e2e-text-dataset-unique\"\n",
    "\n",
    "text_dataset = aiplatform.TextDataset.create(\n",
    "    display_name=display_name,\n",
    "    gcs_source=src_uris,\n",
    "    import_schema_uri=aiplatform.schema.dataset.ioformat.text.single_label_classification,\n",
    "    sync=True,\n",
    ")\n",
    "\n",
    "\n",
    "with open('output.txt', 'w') as out:\n",
    "   out.write(cap.stdout)\n"
   ]
  },
  {
   "cell_type": "code",
   "execution_count": 4,
   "id": "1f918b96-de6a-4f05-b7ca-4af92f21f6a5",
   "metadata": {},
   "outputs": [],
   "source": [
    "%%capture cap\n",
    "# del cap # delete previously existing cap variable\n",
    "print(\"capture me if you can!\")\n",
    "with open('output.txt', 'w') as f:\n",
    "    f.write(cap.stdout)\n",
    "cap()"
   ]
  },
  {
   "cell_type": "code",
   "execution_count": null,
   "id": "f0cb8862-3910-4f13-b91c-ead27506b413",
   "metadata": {},
   "outputs": [],
   "source": []
  }
 ],
 "metadata": {
  "kernelspec": {
   "display_name": "Python 3 (ipykernel)",
   "language": "python",
   "name": "python3"
  },
  "language_info": {
   "codemirror_mode": {
    "name": "ipython",
    "version": 3
   },
   "file_extension": ".py",
   "mimetype": "text/x-python",
   "name": "python",
   "nbconvert_exporter": "python",
   "pygments_lexer": "ipython3",
   "version": "3.10.12"
  }
 },
 "nbformat": 4,
 "nbformat_minor": 5
}
